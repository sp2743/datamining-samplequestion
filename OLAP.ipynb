{
  "cells": [
    {
      "cell_type": "markdown",
      "metadata": {
        "id": "view-in-github",
        "colab_type": "text"
      },
      "source": [
        "<a href=\"https://colab.research.google.com/github/sp2743/datamining-samplequestion/blob/main/OLAP.ipynb\" target=\"_parent\"><img src=\"https://colab.research.google.com/assets/colab-badge.svg\" alt=\"Open In Colab\"/></a>"
      ]
    },
    {
      "cell_type": "markdown",
      "id": "4021bc0e",
      "metadata": {
        "id": "4021bc0e"
      },
      "source": [
        "### A database is given to you as follows:\n",
        "\n",
        "![image.png](attachment:image.png)\n",
        "\n",
        "### 1. Store your data in a numpy 3-D array.        [10]\n",
        "\n",
        "### 2. Write a menu driven program to perform OLAP operations. [10]\n",
        "\n",
        "    Program must have menu options as follows:\n",
        "        a. slice\n",
        "             |-choose the dimension and particular value for slice\n",
        "            \n",
        "        b. Dice\n",
        "            |-provide all the required indecies to take out a dice from the Cube.\n",
        "            \n",
        "        c. Roll-up operation\n",
        "            |-choose the dimension\n",
        "\n",
        "    For all three operations, create separate functions and return the output.\n",
        "\n",
        "### 3. Execute your program on following queries. [80]\n",
        "\n",
        "            3.1. slice on location dimension for 'Chicago'.\n",
        "            3.2. slice on location dimension for 'New York'.\n",
        "            \n",
        "            3.3. slice on time dimension for 'Q1'.\n",
        "            3.4. slice on time dimension for 'Q3'.\n",
        "            \n",
        "            3.5  Take out a Dice for first 2 quarters for security and phone at Chicago and Toronto\n",
        "            3.6  Take out a Dice for last 2 quarters for computer and phone at New York and Toronto\n",
        "            \n",
        "            3.7  Roll-up on time dimension to find city wise sells of each item.\n",
        "            3.8  Roll-up on item dimension to find city wise sells of each quarter.\n",
        "            \n",
        "            "
      ]
    },
    {
      "cell_type": "code",
      "execution_count": 2,
      "id": "va-yi491DCO-",
      "metadata": {
        "id": "va-yi491DCO-"
      },
      "outputs": [],
      "source": [
        "import numpy as np\n",
        "import pandas as pd"
      ]
    },
    {
      "cell_type": "code",
      "execution_count": 3,
      "id": "eQO08Ij5CZ7Y",
      "metadata": {
        "id": "eQO08Ij5CZ7Y"
      },
      "outputs": [],
      "source": [
        "#q1 stroing data in 3-D array\n",
        "\n",
        "time_labels = [\"Q1\", \"Q2\", \"Q3\", \"Q4\"]\n",
        "location_labels = [\"Chicago\", \"New York\", \"Toronto\", \"Vancouver\"]\n",
        "item_labels = [\"entertainment\", \"computer\", \"phone\", \"security\"]\n",
        "\n",
        "data = np.array([\n",
        "    # Q1\n",
        "    [[854, 882, 89, 623], [1087, 968, 38, 872], [818, 746, 43, 591], [605, 825, 14, 400]],\n",
        "    # Q2\n",
        "    [[943, 890, 64, 698], [1130, 1024, 41, 925], [894, 769, 52, 682], [680, 952, 31, 512]],\n",
        "    # Q3\n",
        "    [[1032, 924, 59, 789], [1034, 1048, 45, 1002], [940, 795, 58, 728], [812, 1023, 30, 501]],\n",
        "    # Q4\n",
        "    [[1129, 992, 63, 870], [1142, 1091, 54, 984], [978, 864, 59, 784], [927, 1038, 38, 580]],\n",
        "])\n",
        "\n"
      ]
    },
    {
      "cell_type": "code",
      "execution_count": 4,
      "id": "gpA4GKotC6CE",
      "metadata": {
        "colab": {
          "base_uri": "https://localhost:8080/"
        },
        "id": "gpA4GKotC6CE",
        "outputId": "2ddc802e-89ee-49b5-eb91-5ce6765807df"
      },
      "outputs": [
        {
          "output_type": "execute_result",
          "data": {
            "text/plain": [
              "array([[[ 854,  882,   89,  623],\n",
              "        [1087,  968,   38,  872],\n",
              "        [ 818,  746,   43,  591],\n",
              "        [ 605,  825,   14,  400]],\n",
              "\n",
              "       [[ 943,  890,   64,  698],\n",
              "        [1130, 1024,   41,  925],\n",
              "        [ 894,  769,   52,  682],\n",
              "        [ 680,  952,   31,  512]],\n",
              "\n",
              "       [[1032,  924,   59,  789],\n",
              "        [1034, 1048,   45, 1002],\n",
              "        [ 940,  795,   58,  728],\n",
              "        [ 812, 1023,   30,  501]],\n",
              "\n",
              "       [[1129,  992,   63,  870],\n",
              "        [1142, 1091,   54,  984],\n",
              "        [ 978,  864,   59,  784],\n",
              "        [ 927, 1038,   38,  580]]])"
            ]
          },
          "metadata": {},
          "execution_count": 4
        }
      ],
      "source": [
        "data"
      ]
    },
    {
      "cell_type": "code",
      "execution_count": 5,
      "id": "_eVIht-lC6zB",
      "metadata": {
        "colab": {
          "base_uri": "https://localhost:8080/"
        },
        "id": "_eVIht-lC6zB",
        "outputId": "79da8abe-e8b0-4f66-827f-4daf49432b4a"
      },
      "outputs": [
        {
          "output_type": "stream",
          "name": "stdout",
          "text": [
            "\n",
            "OLAP Operations:\n",
            "1. Slice\n",
            "2. Dice\n",
            "3. Roll-up\n",
            "4. Exit\n",
            "Enter your choice: 1\n",
            "Enter dimension to slice (0=Time, 1=Location, 2=items): 0\n",
            "Enter index to slice: 3\n",
            "\n",
            "Sliced Data:\n",
            " [[1129  992   63  870]\n",
            " [1142 1091   54  984]\n",
            " [ 978  864   59  784]\n",
            " [ 927 1038   38  580]]\n",
            "\n",
            "OLAP Operations:\n",
            "1. Slice\n",
            "2. Dice\n",
            "3. Roll-up\n",
            "4. Exit\n",
            "Enter your choice: 4\n",
            "Exiting...\n"
          ]
        }
      ],
      "source": [
        "# menu driven program to perform OLAP operation such as slice,dice and roll-up operation\n",
        "def slice_cube(cube, dim, index):\n",
        "    \"\"\"Extracts a slice along a specific dimension.\"\"\"\n",
        "    return np.take(cube, indices=index, axis=dim)\n",
        "\n",
        "# Function for DICE Operation\n",
        "def dice_cube(cube, dim_indices):\n",
        "    \"\"\"Extracts a sub-cube based on given dimension indices.\"\"\"\n",
        "    return cube[np.ix_(*dim_indices)]\n",
        "\n",
        "# Function for ROLL-UP Operation\n",
        "def rollup_cube(cube, dim):\n",
        "    \"\"\"Performs roll-up (aggregation) along a given dimension.\"\"\"\n",
        "    return np.sum(cube, axis=dim)\n",
        "\n",
        "# Menu-driven program\n",
        "while True:\n",
        "    print(\"\\nOLAP Operations:\")\n",
        "    print(\"1. Slice\")\n",
        "    print(\"2. Dice\")\n",
        "    print(\"3. Roll-up\")\n",
        "    print(\"4. Exit\")\n",
        "\n",
        "    choice = int(input(\"Enter your choice: \"))\n",
        "\n",
        "    if choice == 1:\n",
        "        dim = int(input(\"Enter dimension to slice (0=Time, 1=Location, 2=items): \"))\n",
        "        index = int(input(\"Enter index to slice: \"))\n",
        "        result = slice_cube(data, dim, index)\n",
        "        print(\"\\nSliced Data:\\n\", result)\n",
        "\n",
        "    elif choice == 2:\n",
        "        indices = []\n",
        "        for dim in range(3):\n",
        "            idx = list(map(int, input(f\"Enter indices for dimension {dim} (comma-separated): \").split(',')))\n",
        "            indices.append(idx)\n",
        "        result = dice_cube(data, indices)\n",
        "        print(\"\\nDiced Data:\\n\", result)\n",
        "\n",
        "    elif choice == 3:\n",
        "        dim = int(input(\"Enter dimension to roll-up (0=Time, 1=Location, 2=items): \"))\n",
        "        result = rollup_cube(data, dim)\n",
        "        print(\"\\nRolled-up Data:\\n\", result)\n",
        "\n",
        "    elif choice == 4:\n",
        "        print(\"Exiting...\")\n",
        "        break\n",
        "\n",
        "    else:\n",
        "        print(\"Invalid choice! Please try again.\")"
      ]
    },
    {
      "cell_type": "code",
      "execution_count": null,
      "id": "2oi_OdMPILRB",
      "metadata": {
        "id": "2oi_OdMPILRB"
      },
      "outputs": [],
      "source": []
    },
    {
      "cell_type": "markdown",
      "id": "JddAjb6sJxOm",
      "metadata": {
        "id": "JddAjb6sJxOm"
      },
      "source": [
        "### 3.1 slice on location dimension for 'Chicago'."
      ]
    },
    {
      "cell_type": "code",
      "execution_count": 6,
      "id": "gqMDjnSNJk3f",
      "metadata": {
        "id": "gqMDjnSNJk3f",
        "colab": {
          "base_uri": "https://localhost:8080/"
        },
        "outputId": "cdd4f264-0c4c-4fbe-e09a-9141afe32fb4"
      },
      "outputs": [
        {
          "output_type": "stream",
          "name": "stdout",
          "text": [
            "\n",
            "Sliced Data:\n",
            " [[ 854  882   89  623]\n",
            " [ 943  890   64  698]\n",
            " [1032  924   59  789]\n",
            " [1129  992   63  870]]\n"
          ]
        }
      ],
      "source": [
        "chicago_index = location_labels.index(\"Chicago\")\n",
        "result = slice_cube(data, 1, chicago_index)\n",
        "print(\"\\nSliced Data:\\n\", result)"
      ]
    },
    {
      "cell_type": "markdown",
      "source": [
        "### 3.2 slice on location for 'New York'"
      ],
      "metadata": {
        "id": "ugJSy-e8bI1O"
      },
      "id": "ugJSy-e8bI1O"
    },
    {
      "cell_type": "code",
      "source": [
        "newyork_index = location_labels.index(\"New York\")\n",
        "result = slice_cube(data, 1, newyork_index)\n",
        "print(\"\\nSliced Data:\\n\", result)\n"
      ],
      "metadata": {
        "colab": {
          "base_uri": "https://localhost:8080/"
        },
        "id": "U5rMwU-HaHdv",
        "outputId": "ef2423ba-caf3-4f5b-d931-6512be9ac4dd"
      },
      "id": "U5rMwU-HaHdv",
      "execution_count": 7,
      "outputs": [
        {
          "output_type": "stream",
          "name": "stdout",
          "text": [
            "\n",
            "Sliced Data:\n",
            " [[1087  968   38  872]\n",
            " [1130 1024   41  925]\n",
            " [1034 1048   45 1002]\n",
            " [1142 1091   54  984]]\n"
          ]
        }
      ]
    },
    {
      "cell_type": "markdown",
      "source": [
        "### 3.3 slice on time dimension for 'Q1'"
      ],
      "metadata": {
        "id": "UFARH4BobQLA"
      },
      "id": "UFARH4BobQLA"
    },
    {
      "cell_type": "code",
      "source": [
        "Q1_index = time_labels.index(\"Q1\")\n",
        "result = slice_cube(data, 0, Q1_index)\n",
        "print(\"\\nSliced Data:\\n\", result)"
      ],
      "metadata": {
        "colab": {
          "base_uri": "https://localhost:8080/"
        },
        "id": "EOAiHxyDbELJ",
        "outputId": "d98fe4b7-6d09-4dc4-863e-1ab1a792e3da"
      },
      "id": "EOAiHxyDbELJ",
      "execution_count": 9,
      "outputs": [
        {
          "output_type": "stream",
          "name": "stdout",
          "text": [
            "\n",
            "Sliced Data:\n",
            " [[ 854  882   89  623]\n",
            " [1087  968   38  872]\n",
            " [ 818  746   43  591]\n",
            " [ 605  825   14  400]]\n"
          ]
        }
      ]
    },
    {
      "cell_type": "markdown",
      "source": [
        "### 3.4 slice on time dimension for 'Q3'"
      ],
      "metadata": {
        "id": "B3Sx-B4Nbogk"
      },
      "id": "B3Sx-B4Nbogk"
    },
    {
      "cell_type": "code",
      "source": [
        "Q3_index = time_labels.index(\"Q3\")\n",
        "result = slice_cube(data, 0, Q3_index)\n",
        "print(\"\\nSliced Data:\\n\", result)"
      ],
      "metadata": {
        "colab": {
          "base_uri": "https://localhost:8080/"
        },
        "id": "DqyG9cxKbcbo",
        "outputId": "15ff9777-6037-40db-e630-56ce573109dc"
      },
      "id": "DqyG9cxKbcbo",
      "execution_count": 10,
      "outputs": [
        {
          "output_type": "stream",
          "name": "stdout",
          "text": [
            "\n",
            "Sliced Data:\n",
            " [[1032  924   59  789]\n",
            " [1034 1048   45 1002]\n",
            " [ 940  795   58  728]\n",
            " [ 812 1023   30  501]]\n"
          ]
        }
      ]
    },
    {
      "cell_type": "markdown",
      "source": [
        "### 3.5 Take out a Dice for first 2 quarters for security and phone at Chicago and Toronto"
      ],
      "metadata": {
        "id": "_lp6slSicUZQ"
      },
      "id": "_lp6slSicUZQ"
    },
    {
      "cell_type": "code",
      "source": [
        "location_indices = [location_labels.index(\"Chicago\"), location_labels.index(\"Toronto\")]\n",
        "time_indices = [time_labels.index('Q1'),time_labels.index('Q2')]\n",
        "item_indices = [item_labels.index(\"security\"), item_labels.index(\"phone\")]\n",
        "result = dice_cube(data, [time_indices, location_indices, item_indices])\n",
        "print(\"\\nDiced Data:\\n\", result)"
      ],
      "metadata": {
        "colab": {
          "base_uri": "https://localhost:8080/"
        },
        "id": "K2_EUjGjcSoz",
        "outputId": "19117aa8-0252-43de-8432-8a2b0307e366"
      },
      "id": "K2_EUjGjcSoz",
      "execution_count": 11,
      "outputs": [
        {
          "output_type": "stream",
          "name": "stdout",
          "text": [
            "\n",
            "Diced Data:\n",
            " [[[623  89]\n",
            "  [591  43]]\n",
            "\n",
            " [[698  64]\n",
            "  [682  52]]]\n"
          ]
        }
      ]
    },
    {
      "cell_type": "markdown",
      "source": [
        "### 3.6 Take out a Dice for last 2 quarters for computer and phone at New York and Toronto"
      ],
      "metadata": {
        "id": "cDMoDTI5drX4"
      },
      "id": "cDMoDTI5drX4"
    },
    {
      "cell_type": "code",
      "source": [
        "location_indices = [location_labels.index(\"New York\"), location_labels.index(\"Toronto\")]\n",
        "time_indices = [time_labels.index('Q3'),time_labels.index('Q4')]\n",
        "item_indices = [item_labels.index(\"computer\"), item_labels.index(\"phone\")]\n",
        "result = dice_cube(data, [time_indices, location_indices, item_indices])\n",
        "print(\"\\nDiced Data:\\n\", result)"
      ],
      "metadata": {
        "colab": {
          "base_uri": "https://localhost:8080/"
        },
        "id": "sXMdNkXvdZ9W",
        "outputId": "b4b59468-9912-43d0-dc47-633b60069009"
      },
      "id": "sXMdNkXvdZ9W",
      "execution_count": 12,
      "outputs": [
        {
          "output_type": "stream",
          "name": "stdout",
          "text": [
            "\n",
            "Diced Data:\n",
            " [[[1048   45]\n",
            "  [ 795   58]]\n",
            "\n",
            " [[1091   54]\n",
            "  [ 864   59]]]\n"
          ]
        }
      ]
    },
    {
      "cell_type": "markdown",
      "source": [
        "### 3.7  Roll-up on time dimension to find city wise sells of each item."
      ],
      "metadata": {
        "id": "SlwDc36ZeQaG"
      },
      "id": "SlwDc36ZeQaG"
    },
    {
      "cell_type": "code",
      "source": [
        "result=rollup_cube(data,0)\n",
        "print(\"\\nRolled-up Data:\\n\", result)"
      ],
      "metadata": {
        "colab": {
          "base_uri": "https://localhost:8080/"
        },
        "id": "dWbwCmJUeFjw",
        "outputId": "74efda43-11a0-46ab-c114-0beebe28cade"
      },
      "id": "dWbwCmJUeFjw",
      "execution_count": 13,
      "outputs": [
        {
          "output_type": "stream",
          "name": "stdout",
          "text": [
            "\n",
            "Rolled-up Data:\n",
            " [[3958 3688  275 2980]\n",
            " [4393 4131  178 3783]\n",
            " [3630 3174  212 2785]\n",
            " [3024 3838  113 1993]]\n"
          ]
        }
      ]
    },
    {
      "cell_type": "markdown",
      "source": [
        "### 3.8 Roll-up on item dimension to find city wise sells of each quarter."
      ],
      "metadata": {
        "id": "82ixByKie12H"
      },
      "id": "82ixByKie12H"
    },
    {
      "cell_type": "code",
      "source": [
        "result=rollup_cube(data,2)\n",
        "print(\"\\nRolled-up Data:\\n\", result)"
      ],
      "metadata": {
        "colab": {
          "base_uri": "https://localhost:8080/"
        },
        "id": "z4exHWnOeyLA",
        "outputId": "659b06df-0898-49a3-b178-f766377aa85e"
      },
      "id": "z4exHWnOeyLA",
      "execution_count": 14,
      "outputs": [
        {
          "output_type": "stream",
          "name": "stdout",
          "text": [
            "\n",
            "Rolled-up Data:\n",
            " [[2448 2965 2198 1844]\n",
            " [2595 3120 2397 2175]\n",
            " [2804 3129 2521 2366]\n",
            " [3054 3271 2685 2583]]\n"
          ]
        }
      ]
    },
    {
      "cell_type": "code",
      "source": [],
      "metadata": {
        "id": "uigmYqCOfC0J"
      },
      "id": "uigmYqCOfC0J",
      "execution_count": null,
      "outputs": []
    }
  ],
  "metadata": {
    "colab": {
      "provenance": [],
      "include_colab_link": true
    },
    "kernelspec": {
      "display_name": "Python 3 (ipykernel)",
      "language": "python",
      "name": "python3"
    },
    "language_info": {
      "codemirror_mode": {
        "name": "ipython",
        "version": 3
      },
      "file_extension": ".py",
      "mimetype": "text/x-python",
      "name": "python",
      "nbconvert_exporter": "python",
      "pygments_lexer": "ipython3",
      "version": "3.11.5"
    }
  },
  "nbformat": 4,
  "nbformat_minor": 5
}